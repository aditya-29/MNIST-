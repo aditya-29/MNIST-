{
 "cells": [
  {
   "cell_type": "markdown",
   "metadata": {},
   "source": [
    "### This tutorial involves predicting the digits using the MNIST Dataset (one of the beginners competitions in kaggle) using CNN. Trying this nuance approach got me around #800 rank\n"
   ]
  },
  {
   "cell_type": "code",
   "execution_count": 1,
   "metadata": {},
   "outputs": [
    {
     "name": "stderr",
     "output_type": "stream",
     "text": [
      "Using TensorFlow backend.\n"
     ]
    }
   ],
   "source": [
    "#importing the necessary libraries\n",
    "import keras\n",
    "from keras.layers import Conv2D, Dense, Dropout, Activation, Flatten, MaxPooling2D, Add, AveragePooling2D, GlobalAveragePooling2D, UpSampling2D, BatchNormalization\n",
    "from keras.metrics import categorical_crossentropy,  sparse_categorical_accuracy\n",
    "from keras import models\n",
    "from sklearn.model_selection import train_test_split as tts\n",
    "from sklearn.metrics import accuracy_score, confusion_matrix\n",
    "import pandas as pd\n",
    "import numpy as np\n",
    "import matplotlib.pyplot as plt\n",
    "from keras.activations import relu, sigmoid, tanh\n",
    "from keras.optimizers import Adam, Adadelta, RMSprop\n",
    "from keras.models import Sequential\n",
    "from sklearn.metrics import accuracy_score as accuracy\n",
    "from keras.datasets import mnist"
   ]
  },
  {
   "cell_type": "code",
   "execution_count": 61,
   "metadata": {},
   "outputs": [
    {
     "name": "stderr",
     "output_type": "stream",
     "text": [
      "c:\\users\\asus\\appdata\\local\\programs\\python\\python36\\lib\\site-packages\\ipykernel_launcher.py:11: FutureWarning: Method .as_matrix will be removed in a future version. Use .values instead.\n",
      "  # This is added back by InteractiveShellApp.init_path()\n",
      "c:\\users\\asus\\appdata\\local\\programs\\python\\python36\\lib\\site-packages\\ipykernel_launcher.py:14: FutureWarning: Method .as_matrix will be removed in a future version. Use .values instead.\n",
      "  \n"
     ]
    }
   ],
   "source": [
    "\n",
    "j = 28                                #---> pixel count\n",
    "file_csv = pd.read_csv(\"train.csv\")\n",
    "test_csv = pd.read_csv(\"test.csv\")\n",
    "\n",
    "imgs = []\n",
    "test_imgs = []\n",
    "\n",
    "#importing the images into the numpy array format\n",
    "for i in range(file_csv.shape[0]):\n",
    "    imgs.append((file_csv.iloc[i,1:(j*j)+1]).as_matrix())\n",
    "\n",
    "for i in range(test_csv.shape[0]):\n",
    "    test_imgs.append((test_csv.iloc[i,0:(j*j)]).as_matrix())"
   ]
  },
  {
   "cell_type": "markdown",
   "metadata": {},
   "source": [
    "### since we are going to use a CNN2D based approach all the input vectors should be 3-dimentional \n",
    "\n",
    "### It is a good practise to normalize the data before feeding into a gradient based learning algorithm"
   ]
  },
  {
   "cell_type": "code",
   "execution_count": 62,
   "metadata": {},
   "outputs": [],
   "source": [
    "imgs = np.array(imgs, dtype=\"float32\").reshape(file_csv.shape[0],j,j,1)\n",
    "test_imgs = np.array(test_imgs, dtype = \"float32\").reshape(test_csv.shape[0],j,j,1)\n",
    "imgs = imgs/255\n",
    "imgs = np.round(imgs)\n",
    "\n",
    "#normalizing the pixels values (test images)\n",
    "test_imgs = test_imgs/255\n",
    "test_imgs = np.round(test_imgs)\n",
    "print(\"imgs shape : \", imgs.shape)\n",
    "print(test_imgs)\n",
    "\n",
    "#the training data given has the labels along with it \n",
    "lab = (file_csv.iloc[:,0].values)\n",
    "lab = np.array(lab).reshape(lab.shape[0],1)\n",
    "print(lab)"
   ]
  },
  {
   "cell_type": "code",
   "execution_count": 125,
   "metadata": {},
   "outputs": [],
   "source": [
    "#training my model on all the training set (trick for better accuracy)\n",
    "\n",
    "x_train, x_test, y_train, y_test = tts(imgs, lab, test_size = 0.2)\n",
    "\n",
    "(x_train_m, y_train_m), (x_test_m, y_test_m) = mnist.load_data()\n",
    "\n",
    "x_train_m = np.concatenate([x_train_m , x_test_m])\n",
    "y_train_m = np.concatenate([y_train_m, y_test_m])\n",
    "\n",
    "#normalizing the pixel values for train images\n",
    "x_train_m = x_train_m.reshape(x_train_m.shape[0], j, j, 1)\n",
    "x_train_m = x_train_m/255\n",
    "x_train_m = np.round(x_train_m)\n"
   ]
  },
  {
   "cell_type": "code",
   "execution_count": 126,
   "metadata": {},
   "outputs": [],
   "source": [
    "#Building a basic Convolutional model\n",
    "\n",
    "model = Sequential()\n",
    "model.add(Conv2D(32, kernel_size = (3), input_shape = (28,28,1), activation = \"relu\"))\n",
    "model.add(BatchNormalization())\n",
    "\n",
    "model.add(Conv2D(32, kernel_size = (3), activation = \"relu\"))\n",
    "model.add(BatchNormalization())\n",
    "\n",
    "model.add(Conv2D(32, kernel_size = (3), activation = \"relu\", padding = \"same\", strides = 2))\n",
    "model.add(BatchNormalization())\n",
    "model.add(Dropout(0.5))\n",
    "\n",
    "model.add(Conv2D(64, kernel_size = (3), activation = \"relu\"))\n",
    "model.add(BatchNormalization())\n",
    "\n",
    "model.add(Conv2D(64, kernel_size = (3), activation = \"relu\"))\n",
    "model.add(BatchNormalization())\n",
    "\n",
    "model.add(Conv2D(64, kernel_size = (3), activation = \"relu\", padding = \"same\"))\n",
    "model.add(BatchNormalization())\n",
    "model.add(Dropout(0.5))\n",
    "\n",
    "model.add(Conv2D(128, kernel_size = (3), activation = \"relu\"))\n",
    "model.add(BatchNormalization())\n",
    "\n",
    "model.add(Conv2D(128, kernel_size = (3), activation = \"relu\", padding = \"same\"))\n",
    "model.add(BatchNormalization())\n",
    "\n",
    "model.add(Dropout(0.4))\n",
    "\n",
    "model.add(Dense(128, activation = \"relu\"))\n",
    "model.add(Dense(64, activation = \"relu\"))\n",
    "\n",
    "model.add(Flatten())\n",
    "\n",
    "model.add(Dense(10, activation = \"sigmoid\"))\n",
    "\n",
    "model.compile(Adam(0.0002), metrics = [\"accuracy\"], loss = \"sparse_categorical_crossentropy\")"
   ]
  },
  {
   "cell_type": "code",
   "execution_count": 127,
   "metadata": {},
   "outputs": [
    {
     "name": "stdout",
     "output_type": "stream",
     "text": [
      "_________________________________________________________________\n",
      "Layer (type)                 Output Shape              Param #   \n",
      "=================================================================\n",
      "conv2d_125 (Conv2D)          (None, 26, 26, 32)        320       \n",
      "_________________________________________________________________\n",
      "batch_normalization_85 (Batc (None, 26, 26, 32)        128       \n",
      "_________________________________________________________________\n",
      "conv2d_126 (Conv2D)          (None, 24, 24, 32)        9248      \n",
      "_________________________________________________________________\n",
      "batch_normalization_86 (Batc (None, 24, 24, 32)        128       \n",
      "_________________________________________________________________\n",
      "conv2d_127 (Conv2D)          (None, 12, 12, 32)        9248      \n",
      "_________________________________________________________________\n",
      "batch_normalization_87 (Batc (None, 12, 12, 32)        128       \n",
      "_________________________________________________________________\n",
      "dropout_66 (Dropout)         (None, 12, 12, 32)        0         \n",
      "_________________________________________________________________\n",
      "conv2d_128 (Conv2D)          (None, 10, 10, 64)        18496     \n",
      "_________________________________________________________________\n",
      "batch_normalization_88 (Batc (None, 10, 10, 64)        256       \n",
      "_________________________________________________________________\n",
      "conv2d_129 (Conv2D)          (None, 8, 8, 64)          36928     \n",
      "_________________________________________________________________\n",
      "batch_normalization_89 (Batc (None, 8, 8, 64)          256       \n",
      "_________________________________________________________________\n",
      "conv2d_130 (Conv2D)          (None, 8, 8, 64)          36928     \n",
      "_________________________________________________________________\n",
      "batch_normalization_90 (Batc (None, 8, 8, 64)          256       \n",
      "_________________________________________________________________\n",
      "dropout_67 (Dropout)         (None, 8, 8, 64)          0         \n",
      "_________________________________________________________________\n",
      "conv2d_131 (Conv2D)          (None, 6, 6, 128)         73856     \n",
      "_________________________________________________________________\n",
      "batch_normalization_91 (Batc (None, 6, 6, 128)         512       \n",
      "_________________________________________________________________\n",
      "conv2d_132 (Conv2D)          (None, 6, 6, 128)         147584    \n",
      "_________________________________________________________________\n",
      "batch_normalization_92 (Batc (None, 6, 6, 128)         512       \n",
      "_________________________________________________________________\n",
      "dropout_68 (Dropout)         (None, 6, 6, 128)         0         \n",
      "_________________________________________________________________\n",
      "dense_82 (Dense)             (None, 6, 6, 128)         16512     \n",
      "_________________________________________________________________\n",
      "dense_83 (Dense)             (None, 6, 6, 64)          8256      \n",
      "_________________________________________________________________\n",
      "flatten_25 (Flatten)         (None, 2304)              0         \n",
      "_________________________________________________________________\n",
      "dense_84 (Dense)             (None, 10)                23050     \n",
      "=================================================================\n",
      "Total params: 382,602\n",
      "Trainable params: 381,514\n",
      "Non-trainable params: 1,088\n",
      "_________________________________________________________________\n",
      "None\n"
     ]
    }
   ],
   "source": [
    "print(model.summary())"
   ]
  },
  {
   "cell_type": "code",
   "execution_count": 128,
   "metadata": {},
   "outputs": [
    {
     "name": "stdout",
     "output_type": "stream",
     "text": [
      "(33600, 1)\n",
      "Train on 52500 samples, validate on 17500 samples\n",
      "Epoch 1/25\n",
      " - 18s - loss: 0.6634 - acc: 0.7756 - val_loss: 0.1064 - val_acc: 0.9667\n",
      "Epoch 2/25\n",
      " - 13s - loss: 0.1201 - acc: 0.9619 - val_loss: 0.0650 - val_acc: 0.9795\n",
      "Epoch 3/25\n",
      " - 13s - loss: 0.0824 - acc: 0.9740 - val_loss: 0.0566 - val_acc: 0.9841\n",
      "Epoch 4/25\n",
      " - 13s - loss: 0.0653 - acc: 0.9790 - val_loss: 0.0413 - val_acc: 0.9878\n",
      "Epoch 5/25\n",
      " - 14s - loss: 0.0534 - acc: 0.9833 - val_loss: 0.0403 - val_acc: 0.9879\n",
      "Epoch 6/25\n",
      " - 13s - loss: 0.0454 - acc: 0.9854 - val_loss: 0.0376 - val_acc: 0.9885\n",
      "Epoch 7/25\n",
      " - 13s - loss: 0.0425 - acc: 0.9861 - val_loss: 0.0317 - val_acc: 0.9904\n",
      "Epoch 8/25\n",
      " - 13s - loss: 0.0381 - acc: 0.9878 - val_loss: 0.0286 - val_acc: 0.9917\n",
      "Epoch 9/25\n",
      " - 13s - loss: 0.0347 - acc: 0.9889 - val_loss: 0.0275 - val_acc: 0.9922\n",
      "Epoch 10/25\n",
      " - 13s - loss: 0.0316 - acc: 0.9897 - val_loss: 0.0367 - val_acc: 0.9890\n",
      "Epoch 11/25\n",
      " - 13s - loss: 0.0315 - acc: 0.9898 - val_loss: 0.0281 - val_acc: 0.9916\n",
      "Epoch 12/25\n",
      " - 13s - loss: 0.0275 - acc: 0.9911 - val_loss: 0.0289 - val_acc: 0.9910\n",
      "Epoch 13/25\n",
      " - 13s - loss: 0.0251 - acc: 0.9917 - val_loss: 0.0288 - val_acc: 0.9922\n",
      "Epoch 14/25\n",
      " - 13s - loss: 0.0258 - acc: 0.9922 - val_loss: 0.0265 - val_acc: 0.9923\n",
      "Epoch 15/25\n",
      " - 13s - loss: 0.0223 - acc: 0.9927 - val_loss: 0.0279 - val_acc: 0.9923\n",
      "Epoch 16/25\n",
      " - 13s - loss: 0.0217 - acc: 0.9927 - val_loss: 0.0286 - val_acc: 0.9922\n",
      "Epoch 17/25\n",
      " - 14s - loss: 0.0207 - acc: 0.9931 - val_loss: 0.0351 - val_acc: 0.9912\n",
      "Epoch 18/25\n",
      " - 14s - loss: 0.0192 - acc: 0.9933 - val_loss: 0.0249 - val_acc: 0.9930\n",
      "Epoch 19/25\n",
      " - 14s - loss: 0.0193 - acc: 0.9935 - val_loss: 0.0251 - val_acc: 0.9933\n",
      "Epoch 20/25\n",
      " - 13s - loss: 0.0173 - acc: 0.9944 - val_loss: 0.0288 - val_acc: 0.9922\n",
      "Epoch 21/25\n",
      " - 13s - loss: 0.0176 - acc: 0.9943 - val_loss: 0.0272 - val_acc: 0.9929\n",
      "Epoch 22/25\n",
      " - 13s - loss: 0.0161 - acc: 0.9946 - val_loss: 0.0278 - val_acc: 0.9927\n",
      "Epoch 23/25\n",
      " - 14s - loss: 0.0168 - acc: 0.9944 - val_loss: 0.0236 - val_acc: 0.9939\n",
      "Epoch 24/25\n",
      " - 14s - loss: 0.0158 - acc: 0.9951 - val_loss: 0.0238 - val_acc: 0.9935\n",
      "Epoch 25/25\n",
      " - 13s - loss: 0.0149 - acc: 0.9951 - val_loss: 0.0262 - val_acc: 0.9934\n"
     ]
    },
    {
     "data": {
      "image/png": "[encoded data removed]",
      "text/plain": [
       "<Figure size 432x288 with 4 Axes>"
      ]
     },
     "metadata": {
      "needs_background": "light"
     },
     "output_type": "display_data"
    }
   ],
   "source": [
    "print(y_train.shape)\n",
    "history = model.fit(x_train_m, y_train_m, epochs = 25, verbose = 2, batch_size = 100, validation_split = 0.25)\n",
    "\n",
    "plt.subplot(411)\n",
    "plt.title(\"loss\")\n",
    "plt.plot(history.history[\"loss\"])\n",
    "\n",
    "plt.subplot(412)\n",
    "plt.title(\"validation loss\")\n",
    "plt.plot(history.history[\"val_loss\"])\n",
    "\n",
    "plt.subplot(413)\n",
    "plt.title(\"accuracy\")\n",
    "plt.plot(history.history[\"acc\"])\n",
    "\n",
    "plt.subplot(414)\n",
    "plt.title(\"validation accuracy\")\n",
    "plt.plot(history.history[\"val_acc\"])\n",
    "\n",
    "plt.show()"
   ]
  },
  {
   "cell_type": "code",
   "execution_count": 129,
   "metadata": {},
   "outputs": [],
   "source": [
    "prediction = model.predict_classes(test_imgs)\n"
   ]
  },
  {
   "cell_type": "code",
   "execution_count": 130,
   "metadata": {},
   "outputs": [
    {
     "name": "stdout",
     "output_type": "stream",
     "text": [
      "       ImageId  Label\n",
      "0            1      2\n",
      "1            2      0\n",
      "2            3      9\n",
      "3            4      0\n",
      "4            5      3\n",
      "5            6      7\n",
      "6            7      0\n",
      "7            8      3\n",
      "8            9      0\n",
      "9           10      3\n",
      "10          11      5\n",
      "11          12      7\n",
      "12          13      4\n",
      "13          14      0\n",
      "14          15      4\n",
      "15          16      3\n",
      "16          17      3\n",
      "17          18      1\n",
      "18          19      9\n",
      "19          20      0\n",
      "20          21      9\n",
      "21          22      1\n",
      "22          23      1\n",
      "23          24      5\n",
      "24          25      7\n",
      "25          26      4\n",
      "26          27      2\n",
      "27          28      7\n",
      "28          29      4\n",
      "29          30      7\n",
      "...        ...    ...\n",
      "27970    27971      5\n",
      "27971    27972      0\n",
      "27972    27973      4\n",
      "27973    27974      8\n",
      "27974    27975      0\n",
      "27975    27976      3\n",
      "27976    27977      6\n",
      "27977    27978      0\n",
      "27978    27979      1\n",
      "27979    27980      9\n",
      "27980    27981      3\n",
      "27981    27982      1\n",
      "27982    27983      1\n",
      "27983    27984      0\n",
      "27984    27985      4\n",
      "27985    27986      5\n",
      "27986    27987      2\n",
      "27987    27988      2\n",
      "27988    27989      9\n",
      "27989    27990      6\n",
      "27990    27991      7\n",
      "27991    27992      6\n",
      "27992    27993      3\n",
      "27993    27994      9\n",
      "27994    27995      7\n",
      "27995    27996      9\n",
      "27996    27997      7\n",
      "27997    27998      3\n",
      "27998    27999      9\n",
      "27999    28000      2\n",
      "\n",
      "[28000 rows x 2 columns]\n",
      "done\n"
     ]
    }
   ],
   "source": [
    "#storing the prediceted labels in the kaggle accepted format\n",
    "\n",
    "no = np.arange(1, 28001,1)\n",
    "no = no.tolist()\n",
    "prediction = prediction.tolist()\n",
    "\n",
    "pred = list(zip(no, prediction))\n",
    "df = pd.DataFrame(pred,columns = [\"ImageId\", \"Label\"])\n",
    "# print(df)\n",
    "df.to_csv(\"result.csv\", encoding = \"utf-8\", index = False)\n",
    "print(\"done\")"
   ]
  },
  {
   "cell_type": "code",
   "execution_count": null,
   "metadata": {},
   "outputs": [],
   "source": []
  }
 ],
 "metadata": {
  "kernelspec": {
   "display_name": "Python 3",
   "language": "python",
   "name": "python3"
  },
  "language_info": {
   "codemirror_mode": {
    "name": "ipython",
    "version": 3
   },
   "file_extension": ".py",
   "mimetype": "text/x-python",
   "name": "python",
   "nbconvert_exporter": "python",
   "pygments_lexer": "ipython3",
   "version": "3.6.8"
  }
 },
 "nbformat": 4,
 "nbformat_minor": 2
}
